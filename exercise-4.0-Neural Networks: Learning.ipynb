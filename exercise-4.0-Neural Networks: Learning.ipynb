{
 "cells": [
  {
   "cell_type": "code",
   "execution_count": 68,
   "metadata": {},
   "outputs": [],
   "source": [
    "import numpy as np\n",
    "import pandas as pd\n",
    "import matplotlib as mpl\n",
    "import matplotlib.pyplot as plt\n",
    "from scipy.optimize import minimize\n",
    "\n",
    "# load MATLAB files\n",
    "from scipy.io import loadmat"
   ]
  },
  {
   "cell_type": "code",
   "execution_count": 61,
   "metadata": {},
   "outputs": [
    {
     "name": "stdout",
     "output_type": "stream",
     "text": [
      "Shape of X (with intercept) : (5000, 401)\n",
      "Shape of y  (5000, 1)\n",
      "\n",
      "\n",
      "Shape of Theta 1: (25, 401)\n",
      "Shape of Theta 2: (10, 26)\n"
     ]
    }
   ],
   "source": [
    "data = loadmat('data/ex4data1.mat')\n",
    "X = data['X'];\n",
    "ones = np.ones((X.shape[0],1))\n",
    "X = np.c_[ones,X]\n",
    "y = data['y']\n",
    "print(\"Shape of X (with intercept) :\",X.shape)\n",
    "print(\"Shape of y \",y.shape)\n",
    "weights = loadmat('data/ex4weights.mat')\n",
    "theta1 = weights['Theta1']\n",
    "theta2 = weights['Theta2']\n",
    "print(\"\\n\")\n",
    "print(\"Shape of Theta 1:\",theta1.shape)\n",
    "print(\"Shape of Theta 2:\",theta2.shape)"
   ]
  },
  {
   "cell_type": "code",
   "execution_count": 62,
   "metadata": {},
   "outputs": [],
   "source": [
    "def sigmoid(x):\n",
    "    return 1/(1+np.exp(-x))"
   ]
  },
  {
   "cell_type": "code",
   "execution_count": 6,
   "metadata": {},
   "outputs": [],
   "source": [
    "def sigmoid_gradient(z):\n",
    "    return sigmoid(z)*(1-sigmoid(z))"
   ]
  },
  {
   "cell_type": "code",
   "execution_count": 17,
   "metadata": {},
   "outputs": [],
   "source": [
    "def randInitializeWeights(L_in, L_out):\n",
    "    epsilion_init = 0.12\n",
    "    W = np.random.randn(L_out,L_in+1) * 2 *epsilion_init - epsilion_init\n",
    "    return W"
   ]
  },
  {
   "cell_type": "code",
   "execution_count": 43,
   "metadata": {},
   "outputs": [],
   "source": [
    "# sigmoid(0)\n",
    "# print(randInitializeWeights(2,2))"
   ]
  },
  {
   "cell_type": "code",
   "execution_count": 48,
   "metadata": {},
   "outputs": [],
   "source": [
    "def nnCostFunction(nn_params, input_layer_size, hidden_layer_size, num_labels, X, y, Lambda):\n",
    "    Theta1 = nn_params[0:(input_layer_size+1)*(hidden_layer_size)].reshape(hidden_layer_size,input_layer_size+1)\n",
    "    Theta2 = nn_params[(input_layer_size+1)*(hidden_layer_size):].reshape(num_labels,hidden_layer_size+1)\n",
    "    \n",
    "    y_matrix = pd.get_dummies(y.ravel()).as_matrix()\n",
    "    \n",
    "#     forward propogation\n",
    "    z2 = np.dot(X,Theta1.T)\n",
    "    a2 = np.c_[np.ones((z2.shape[0],1)),sigmoid(z2)]\n",
    "    z3 = np.dot(a2,Theta2.T)\n",
    "    a3 = sigmoid(z3)\n",
    "     \n",
    "    m = a3.shape[0]\n",
    "    \n",
    "    J = -1*(1/m)*np.sum((y_matrix*np.log(a3))+((1-y_matrix)*np.log(1-a3)))+(Lambda/(2*m))*(np.sum(np.square(theta1[:,1:])) + np.sum(np.square(theta2[:,1:])))\n",
    "#     print(J)\n",
    "  \n",
    "#     print(a3.shape)\n",
    "#     print(Theta2.shape)\n",
    "#     print(z2.shape)\n",
    "    delta3 = a3 - y_matrix\n",
    "    delta2 = np.multiply(np.dot(delta3,Theta2[:,1:]),sigmoid_gradient(z2))\n",
    "    \n",
    "    D2 = np.dot(delta3.T,a2)\n",
    "    D1 = np.dot(delta2.T,X)\n",
    "    \n",
    "    theta1_reg=np.c_[np.ones((Theta1.shape[0],1)),Theta1[:,1:]]\n",
    "    theta2_reg=np.c_[np.ones((Theta2.shape[0],1)),Theta2[:,1:]]\n",
    "    \n",
    "    theta1_grad = (1/m)*D1+(1/m)*(theta1_reg*Lambda)\n",
    "    theta2_grad = (1/m)*D2+(1/m)*(theta2_reg*Lambda)\n",
    "    \n",
    "    grad = np.r_[theta1_grad.ravel(),theta2_grad.ravel()]\n",
    "    \n",
    "    return (J,grad)\n",
    "    "
   ]
  },
  {
   "cell_type": "code",
   "execution_count": 54,
   "metadata": {},
   "outputs": [
    {
     "data": {
      "text/plain": [
       "(0.38376985909092365,\n",
       " array([  2.61871277e-04,  -2.11248326e-12,   4.38829369e-13, ...,\n",
       "          4.70513145e-05,  -5.01718610e-04,   5.07825789e-04]))"
      ]
     },
     "execution_count": 54,
     "metadata": {},
     "output_type": "execute_result"
    }
   ],
   "source": [
    "input_layer_size = 400\n",
    "hidden_layer_size = 25\n",
    "num_labels = 10\n",
    "Lambda = 0\n",
    "nn_params = np.hstack((theta1.ravel(),theta2.ravel()))\n",
    "#print(nn_params.shape)\n",
    "nnCostFunction(nn_params, input_layer_size, hidden_layer_size, num_labels, X, y, Lambda)\n",
    "Lambda = 1\n",
    "nnCostFunction(nn_params, input_layer_size, hidden_layer_size, num_labels, X, y, Lambda)"
   ]
  },
  {
   "cell_type": "code",
   "execution_count": 92,
   "metadata": {},
   "outputs": [],
   "source": [
    "def compute_numerical_gradient(theta, lmda):\n",
    "    eps = 10**(-4)\n",
    "    thetaSize = theta.shape[0]\n",
    "    gradTheta = np.zeros(theta.shape)\n",
    "    epsTheta = np.zeros(theta.shape)\n",
    "    for i in range(0,thetaSize):\n",
    "        epsTheta[i] = eps\n",
    "        J_plus = nnCostFunction(theta + epsTheta, input_layer_size, hidden_layer_size, num_labels, X, y, lmda)[0]\n",
    "        J_minus = nnCostFunction(theta - epsTheta, theta1.shape[1]-1, theta1.shape[0], theta2.shape[0], X, y, lmda)[0]\n",
    "        gradTheta[i] = (J_plus - J_minus)/(2*eps)\n",
    "        epsTheta[i] = 0\n",
    "    return gradTheta"
   ]
  },
  {
   "cell_type": "code",
   "execution_count": 93,
   "metadata": {},
   "outputs": [
    {
     "name": "stdout",
     "output_type": "stream",
     "text": [
      "[  6.18712781e-05   0.00000000e+00   0.00000000e+00 ...,   9.66104735e-05\n",
      "  -7.57736845e-04   7.73329873e-04]\n"
     ]
    }
   ],
   "source": [
    "grdient_nn = compute_numerical_gradient(nn_params, 0)\n",
    "print(grdient_nn)"
   ]
  },
  {
   "cell_type": "code",
   "execution_count": 94,
   "metadata": {},
   "outputs": [
    {
     "name": "stdout",
     "output_type": "stream",
     "text": [
      "[  6.18712766e-05   0.00000000e+00   0.00000000e+00 ...,   9.66104721e-05\n",
      "  -7.57736846e-04   7.73329872e-04]\n"
     ]
    }
   ],
   "source": [
    "gradient = nnCostFunction(nn_params, input_layer_size, hidden_layer_size, num_labels, X, y, 0)[1]"
   ]
  },
  {
   "cell_type": "code",
   "execution_count": 96,
   "metadata": {},
   "outputs": [],
   "source": [
    "#print(nnCostFunction(nn_params, input_layer_size, hidden_layer_size, num_labels, X, y, 0)[1])\n",
    "# print(gradient.shape)\n",
    "# print(grdient_nn.shape)\n",
    "# for i in range(0,gradient.shape[0]):\n",
    "#     print(gradient[i],grdient_nn[i])\n",
    "#     print(\"\\n\")\n"
   ]
  },
  {
   "cell_type": "code",
   "execution_count": 98,
   "metadata": {},
   "outputs": [
    {
     "name": "stdout",
     "output_type": "stream",
     "text": [
      "     fun: 0.2234818267273173\n",
      "     jac: array([  2.87468705e-05,  -7.37022186e-14,   1.53102742e-14, ...,\n",
      "        -6.86126185e-05,  -4.84402082e-05,   2.74205845e-06])\n",
      " message: 'Desired error not necessarily achieved due to precision loss.'\n",
      "    nfev: 430\n",
      "     nit: 152\n",
      "    njev: 419\n",
      "  status: 2\n",
      " success: False\n",
      "       x: array([ -1.16095040e+00,  -3.68511093e-10,   7.65513712e-11, ...,\n",
      "         9.47867525e-02,   2.39551341e+00,  -1.68812815e+00])\n"
     ]
    }
   ],
   "source": [
    "lmda = 1\n",
    "input_layer_size = 400\n",
    "hidden_layer_size = 25\n",
    "num_labels = 10\n",
    "theta_1 = randInitializeWeights(input_layer_size,hidden_layer_size)\n",
    "theta_2 = randInitializeWeights(hidden_layer_size,num_labels)\n",
    "theta_0 = np.hstack((theta1.ravel(),theta2.ravel()))\n",
    "nn = minimize( fun = nnCostFunction, x0 = theta_0, \n",
    "              args = (input_layer_size, hidden_layer_size, num_labels, X, y, lmda), \n",
    "              method = 'CG', jac = True, options = {'maxiter' : 400} )\n",
    "print(nn)"
   ]
  },
  {
   "cell_type": "code",
   "execution_count": 118,
   "metadata": {},
   "outputs": [],
   "source": [
    "def predict(theta1,theta2,X):\n",
    "    z2 = np.dot(X,theta1.T)\n",
    "    a2 = sigmoid(z2)\n",
    "    a2 = np.c_[np.ones((a2.shape[0],1)),a2]\n",
    "    z3 = np.dot(a2,theta2.T)\n",
    "    a3 = sigmoid(z3)\n",
    "    return (np.argmax(a3,axis=1)+1)"
   ]
  },
  {
   "cell_type": "code",
   "execution_count": 128,
   "metadata": {},
   "outputs": [
    {
     "name": "stdout",
     "output_type": "stream",
     "text": [
      "training accuracy : 99.44 %\n"
     ]
    }
   ],
   "source": [
    "theta_0 = nn.x[0:(hidden_layer_size*(input_layer_size + 1))].reshape(hidden_layer_size,(input_layer_size+1))\n",
    "theta_1 = nn.x[(hidden_layer_size*(input_layer_size + 1)):].reshape(num_labels,(hidden_layer_size + 1))\n",
    "predict_y = predict(theta_0,theta_1,X).reshape(-1,1)\n",
    "probability = (y[y == predict_y].shape[0]/(y.shape[0]))*100\n",
    "print(\"training accuracy : \"+str(probability)+\" %\")"
   ]
  },
  {
   "cell_type": "code",
   "execution_count": null,
   "metadata": {},
   "outputs": [],
   "source": []
  },
  {
   "cell_type": "code",
   "execution_count": null,
   "metadata": {},
   "outputs": [],
   "source": []
  }
 ],
 "metadata": {
  "kernelspec": {
   "display_name": "Python 3",
   "language": "python",
   "name": "python3"
  },
  "language_info": {
   "codemirror_mode": {
    "name": "ipython",
    "version": 3
   },
   "file_extension": ".py",
   "mimetype": "text/x-python",
   "name": "python",
   "nbconvert_exporter": "python",
   "pygments_lexer": "ipython3",
   "version": "3.6.3"
  }
 },
 "nbformat": 4,
 "nbformat_minor": 1
}
