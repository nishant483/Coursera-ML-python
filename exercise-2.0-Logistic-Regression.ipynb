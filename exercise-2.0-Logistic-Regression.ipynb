{
 "cells": [
  {
   "cell_type": "code",
   "execution_count": 30,
   "metadata": {},
   "outputs": [],
   "source": [
    "import pandas as pd\n",
    "import numpy as np\n",
    "import matplotlib.pyplot as plt\n",
    "import math\n",
    "from scipy.optimize import minimize\n"
   ]
  },
  {
   "cell_type": "code",
   "execution_count": 31,
   "metadata": {},
   "outputs": [],
   "source": [
    "def plot_function(px, py, nx, ny, c1, c2, xmin, xmax, ymin, ymax, label1, label2):\n",
    "    plt.scatter(px, py, c='k', s=50, label=c1)\n",
    "    plt.scatter(nx, ny, c='y', s=50, label=c2)\n",
    "\n",
    "    plt.gca().set_xlim([xmin, xmax])\n",
    "    plt.gca().set_ylim([ymin, ymax])\n",
    "    plt.gca().set_xlabel(label1)\n",
    "    plt.gca().set_ylabel(label2)\n",
    "    plt.gca().legend(bbox_to_anchor=(1.0, 1.0), fancybox=True)"
   ]
  },
  {
   "cell_type": "code",
   "execution_count": 32,
   "metadata": {},
   "outputs": [
    {
     "data": {
      "image/png": "[encoded data removed]",
      "text/plain": [
       "<matplotlib.figure.Figure at 0x112f1a470>"
      ]
     },
     "metadata": {},
     "output_type": "display_data"
    }
   ],
   "source": [
    "data = pd.read_csv('data/ex2data1.txt', header=None)\n",
    "data.columns = ['exam1', 'exam2', 'admitted']\n",
    "plot_function(data[data.admitted == 0]['exam1'], data[data.admitted == 0]['exam2'], data[data.admitted == 1]['exam1'],\n",
    "              data[data.admitted == 1]['exam2'], \"Admitted\", \"Not-Admitted\", data['exam1'].min() - 10,\n",
    "              data['exam1'].max() + 10, data['exam2'].min() - 10, data['exam2'].max() + 10, \"Exam 1 Score\",\n",
    "              \"Exam 2 Score\")"
   ]
  },
  {
   "cell_type": "code",
   "execution_count": 33,
   "metadata": {},
   "outputs": [],
   "source": [
    "def sigmoid(x):\n",
    "    return (1 / (1 + np.exp(-x)))"
   ]
  },
  {
   "cell_type": "code",
   "execution_count": 34,
   "metadata": {},
   "outputs": [],
   "source": [
    "def costFunction(theta, x, y):\n",
    "    m = x.shape[0]\n",
    "    predicted_value = sigmoid(np.dot(x, theta))\n",
    "    cost = (-1 / m) * (np.dot(y.T, np.log(predicted_value)) + np.dot((1 - y).T, np.log(1 - predicted_value)))\n",
    "\n",
    "    if np.isnan(cost[0]):\n",
    "        return (np.inf)\n",
    "\n",
    "    return cost[0]\n"
   ]
  },
  {
   "cell_type": "code",
   "execution_count": 35,
   "metadata": {},
   "outputs": [],
   "source": [
    "def gradientDescent(theta, x, y):\n",
    "    m = x.shape[0]\n",
    "    n = x.shape[1]\n",
    "    theta = np.array(theta).reshape(n, 1)\n",
    "    predicted_value = sigmoid(np.dot(x, theta))\n",
    "    diffrence = (predicted_value - y)\n",
    "    theta = ((1 / m) * np.dot(diffrence.T, x)).T.flatten()\n",
    "    return theta"
   ]
  },
  {
   "cell_type": "code",
   "execution_count": 36,
   "metadata": {},
   "outputs": [],
   "source": [
    "def predict(theta, x, threshold=0.5):\n",
    "    return (sigmoid(np.dot(x, theta)) >= 0.5).astype('int')"
   ]
  },
  {
   "cell_type": "code",
   "execution_count": 37,
   "metadata": {},
   "outputs": [],
   "source": [
    "def poly_features(X, deg):\n",
    "    x1 = X[:, 0]\n",
    "    x2 = X[:, 1]\n",
    "    features = X\n",
    "    count = 0\n",
    "    for i in range(2, deg + 1):\n",
    "        for j in range(0, i + 1):\n",
    "            count += 1\n",
    "            column = np.array(x1 ** (i - j) * x2 ** j).reshape(X.shape[0], 1)\n",
    "            features = np.hstack((features, column))\n",
    "    features = np.insert(features, 0, 1, axis=1)\n",
    "    return features"
   ]
  },
  {
   "cell_type": "code",
   "execution_count": 38,
   "metadata": {},
   "outputs": [],
   "source": [
    "def reg_cost_function ( theta, x, y, lmda ):\n",
    "    theta = theta.reshape(theta.shape[0],1)\n",
    "    m = x.shape[0]\n",
    "    predicted_value = sigmoid(np.dot(x, theta))\n",
    "    reg_theta = np.delete(theta,0,axis=0)\n",
    "    cost = (-1 / m) * (np.dot(y.T, np.log(predicted_value)) + np.dot((1 - y).T, np.log(1 - predicted_value))) +(lmda / (2 * m)) * np.sum(np.square(reg_theta))\n",
    "    if np.isnan(cost[0]):\n",
    "        return (np.inf)\n",
    "\n",
    "    return cost[0]"
   ]
  },
  {
   "cell_type": "code",
   "execution_count": 39,
   "metadata": {},
   "outputs": [],
   "source": [
    "def reg_gradient_function ( theta, x, y, lmda ):\n",
    "    m = x.shape[0]\n",
    "    n = x.shape[1]\n",
    "    theta = np.array(theta).reshape(n, 1)\n",
    "    predicted_value = sigmoid(np.dot(x, theta))\n",
    "    diffrence = (predicted_value - y)\n",
    "    reg_theta = np.insert(np.delete((lmda / m) * theta, 0, axis=0),0,0,axis=0)\n",
    "    optimized_theta = ((1 / m) * np.dot(diffrence.T, x).T + reg_theta).flatten()\n",
    "    return optimized_theta"
   ]
  },
  {
   "cell_type": "code",
   "execution_count": 40,
   "metadata": {},
   "outputs": [],
   "source": [
    "x = np.array(data[['exam1', 'exam2']])\n",
    "m = x.shape[0]\n",
    "n = x.shape[1]\n",
    "y = np.array(data['admitted']).reshape(m, 1)\n",
    "theta = np.zeros([3, 1])\n",
    "x = np.insert(x, 0, 1, axis=1)\n"
   ]
  },
  {
   "cell_type": "code",
   "execution_count": 41,
   "metadata": {},
   "outputs": [
    {
     "name": "stdout",
     "output_type": "stream",
     "text": [
      "[ -0.1        -12.00921659 -11.26284221]\n"
     ]
    }
   ],
   "source": [
    "cost = costFunction(theta, x, y)\n",
    "theta = gradientDescent(theta, x, y)\n",
    "print(theta)"
   ]
  },
  {
   "cell_type": "code",
   "execution_count": 42,
   "metadata": {},
   "outputs": [
    {
     "name": "stdout",
     "output_type": "stream",
     "text": [
      "      fun: 0.2034977015895099\n",
      " hess_inv: array([[  2.85339493e+03,  -2.32908823e+01,  -2.27416470e+01],\n",
      "       [ -2.32908823e+01,   2.04489131e-01,   1.72969525e-01],\n",
      "       [ -2.27416470e+01,   1.72969525e-01,   1.96170322e-01]])\n",
      "      jac: array([ -2.68557636e-09,   4.36433477e-07,  -1.39671758e-06])\n",
      "  message: 'Optimization terminated successfully.'\n",
      "     nfev: 34\n",
      "      nit: 25\n",
      "     njev: 30\n",
      "   status: 0\n",
      "  success: True\n",
      "        x: array([-25.16131634,   0.2062316 ,   0.20147143])\n"
     ]
    },
    {
     "name": "stderr",
     "output_type": "stream",
     "text": [
      "/Users/nishant/venv/lib/python3.6/site-packages/ipykernel_launcher.py:4: RuntimeWarning: divide by zero encountered in log\n",
      "  after removing the cwd from sys.path.\n",
      "/Users/nishant/venv/lib/python3.6/site-packages/ipykernel_launcher.py:4: RuntimeWarning: divide by zero encountered in log\n",
      "  after removing the cwd from sys.path.\n"
     ]
    }
   ],
   "source": [
    "logistic_regression = minimize(fun=costFunction, x0=np.zeros([3, 1]),\n",
    "                               args=(x, y), jac=gradientDescent, options={'maxiter': 400})\n",
    "print(logistic_regression)"
   ]
  },
  {
   "cell_type": "code",
   "execution_count": 43,
   "metadata": {},
   "outputs": [],
   "source": [
    "theta = logistic_regression.x.reshape(n + 1, 1)"
   ]
  },
  {
   "cell_type": "code",
   "execution_count": 44,
   "metadata": {},
   "outputs": [
    {
     "name": "stdout",
     "output_type": "stream",
     "text": [
      "[ 0.77629032]\n"
     ]
    }
   ],
   "source": [
    "# example with marks - exam1 - 45,exam2 - 85\n",
    "probability = sigmoid(np.dot(np.array([1, 45, 85]), theta))\n",
    "print(probability)"
   ]
  },
  {
   "cell_type": "code",
   "execution_count": 45,
   "metadata": {},
   "outputs": [
    {
     "name": "stdout",
     "output_type": "stream",
     "text": [
      "Training Score : 89.0%\n"
     ]
    }
   ],
   "source": [
    "p = predict(theta, x)\n",
    "print('Training Score : {0}%'.format((y[y == p].shape[0] * 100) / y.shape[0]))"
   ]
  },
  {
   "cell_type": "code",
   "execution_count": 46,
   "metadata": {},
   "outputs": [
    {
     "data": {
      "text/plain": [
       "<matplotlib.collections.PathCollection at 0x112a9a9e8>"
      ]
     },
     "execution_count": 46,
     "metadata": {},
     "output_type": "execute_result"
    },
    {
     "data": {
      "image/png": "[encoded data removed]",
      "text/plain": [
       "<matplotlib.figure.Figure at 0x113a930f0>"
      ]
     },
     "metadata": {},
     "output_type": "display_data"
    }
   ],
   "source": [
    "plot_function(data[data.admitted == 0]['exam1'], data[data.admitted == 0]['exam2'], data[data.admitted == 1]['exam1'],\n",
    "              data[data.admitted == 1]['exam2'], \"Admitted\", \"Not-Admitted\", data['exam1'].min() - 10,\n",
    "              data['exam1'].max() + 10, data['exam2'].min() - 10, data['exam2'].max() + 10, \"Exam 1 Score\",\n",
    "              \"Exam 2 Score\")\n",
    "plt.scatter(45, 85, s=50, c='r', marker='s', label='\"Test\" data')"
   ]
  },
  {
   "cell_type": "code",
   "execution_count": 48,
   "metadata": {},
   "outputs": [
    {
     "data": {
      "text/plain": [
       "<matplotlib.contour.QuadContourSet at 0x113aeb5c0>"
      ]
     },
     "execution_count": 48,
     "metadata": {},
     "output_type": "execute_result"
    },
    {
     "data": {
      "image/png": "[encoded data removed]",
      "text/plain": [
       "<matplotlib.figure.Figure at 0x113aeb6a0>"
      ]
     },
     "metadata": {},
     "output_type": "display_data"
    }
   ],
   "source": [
    "plot_function(data[data.admitted == 0]['exam1'], data[data.admitted == 0]['exam2'], data[data.admitted == 1]['exam1'],\n",
    "              data[data.admitted == 1]['exam2'], \"Admitted\", \"Not-Admitted\", data['exam1'].min() - 10,\n",
    "              data['exam1'].max() + 10, data['exam2'].min() - 10, data['exam2'].max() + 10, \"Exam 1 Score\",\n",
    "              \"Exam 2 Score\")\n",
    "xx1, xx2 = np.meshgrid(np.linspace(0, 100), np.linspace(0, 100))\n",
    "# Grid of all points (2500 by default) in the mesh, with entry of 1 in front ( for theta0 )\n",
    "X_grid = np.c_[np.ones((np.ravel(xx1).shape[0], 1)), np.ravel(xx1), np.ravel(xx2)]\n",
    "h = sigmoid(X_grid.dot(logistic_regression.x))\n",
    "h = h.reshape(xx1.shape)\n",
    "\n",
    "plt.contour(xx1, xx2, h, [0.5], linewidths=0.5, colors='b')"
   ]
  },
  {
   "cell_type": "code",
   "execution_count": 49,
   "metadata": {},
   "outputs": [],
   "source": [
    "data = pd.read_csv('data/ex2data2.txt', header=None)\n",
    "data.columns = ['chip1', 'chip2', 'y']"
   ]
  },
  {
   "cell_type": "code",
   "execution_count": 50,
   "metadata": {},
   "outputs": [],
   "source": [
    "X = np.array(data[['chip1', 'chip2']])\n",
    "y = np.array(data['y'])\n",
    "\n",
    "features = poly_features(X, 6)"
   ]
  },
  {
   "cell_type": "code",
   "execution_count": 51,
   "metadata": {},
   "outputs": [],
   "source": [
    "m = features.shape[0]\n",
    "n = features.shape[1]\n",
    "\n",
    "y = y.reshape(m,1)\n",
    "\n",
    "\n",
    "theta = np.zeros([n, 1])"
   ]
  },
  {
   "cell_type": "code",
   "execution_count": 52,
   "metadata": {},
   "outputs": [
    {
     "name": "stdout",
     "output_type": "stream",
     "text": [
      "[ 0.69314718]\n",
      "[  8.47457627e-03   1.87880932e-02   7.77711864e-05   5.03446395e-02\n",
      "   1.15013308e-02   3.76648474e-02   1.83559872e-02   7.32393391e-03\n",
      "   8.19244468e-03   2.34764889e-02   3.93486234e-02   2.23923907e-03\n",
      "   1.28600503e-02   3.09593720e-03   3.93028171e-02   1.99707467e-02\n",
      "   4.32983232e-03   3.38643902e-03   5.83822078e-03   4.47629067e-03\n",
      "   3.10079849e-02   3.10312442e-02   1.09740238e-03   6.31570797e-03\n",
      "   4.08503006e-04   7.26504316e-03   1.37646175e-03   3.87936363e-02]\n"
     ]
    }
   ],
   "source": [
    "cost = reg_cost_function(theta, features, y,1)\n",
    "print(cost)\n",
    "theta = reg_gradient_function(theta, features, y,1)\n",
    "print(theta)"
   ]
  },
  {
   "cell_type": "code",
   "execution_count": 53,
   "metadata": {},
   "outputs": [
    {
     "name": "stdout",
     "output_type": "stream",
     "text": [
      "      fun: 0.5290027422869217\n",
      " hess_inv: array([[  1.07914459e+01,   1.00370134e+00,   1.21057597e+00,\n",
      "         -8.74612304e+00,  -2.24476234e+00,  -1.30928770e+01,\n",
      "          7.84297774e-01,  -1.64458964e+00,  -2.48377276e-01,\n",
      "         -6.52804934e-01,  -4.71782992e+00,   2.58090129e+00,\n",
      "         -4.03086221e+00,   1.03695104e-01,  -5.05427604e+00,\n",
      "         -6.82360126e-02,  -2.45505447e-02,   8.83292432e-01,\n",
      "         -1.68341536e+00,  -5.50856476e-01,   2.14265744e+00,\n",
      "         -2.31021183e+00,   2.03047279e+00,  -1.59242276e+00,\n",
      "          1.32651853e+00,  -1.98877507e+00,   2.80730511e-01,\n",
      "          5.99591174e-01],\n",
      "       [  1.00370134e+00,   1.28889754e+01,   4.31839874e+00,\n",
      "         -6.95995281e+00,  -7.08201337e+00,  -3.92029202e-03,\n",
      "          1.69141341e+00,   7.17737681e-01,   2.99492672e+00,\n",
      "         -3.00897829e+00,  -3.78374906e+00,  -2.07471726e-01,\n",
      "          9.68383482e-01,  -1.53929603e+00,  -7.57663155e-01,\n",
      "         -5.27877013e-01,   5.65484974e-01,   1.54975987e+00,\n",
      "         -4.69577010e-01,   1.16892770e+00,  -2.13286531e+00,\n",
      "         -2.19538460e+00,   4.55052572e-01,   4.07717341e-01,\n",
      "          3.65861707e-01,   3.50581307e-01,  -2.11935360e-01,\n",
      "         -3.00465771e-01],\n",
      "       [  1.21057597e+00,   4.31839874e+00,   1.78598784e+01,\n",
      "         -3.46271504e+00,  -7.87284696e+00,  -4.52935050e+00,\n",
      "         -7.25919022e-01,   3.97179185e+00,   4.18900391e-01,\n",
      "         -2.98088714e+00,  -1.86202923e+00,  -6.55618462e-01,\n",
      "          1.58077028e+00,  -1.74101660e+00,  -6.56885414e+00,\n",
      "         -1.49400632e+00,   1.74794214e+00,   8.03370799e-01,\n",
      "          3.72736906e-01,   1.54047791e-01,  -6.07269326e+00,\n",
      "         -1.20593395e+00,   2.09337880e-01,   7.73311459e-01,\n",
      "          2.22626841e-01,   3.14449900e-01,  -2.35552776e-01,\n",
      "         -6.68691610e+00],\n",
      "       [ -8.74612304e+00,  -6.95995281e+00,  -3.46271504e+00,\n",
      "          2.21859815e+01,   9.71595621e+00,   1.21717823e+01,\n",
      "          2.15536131e+00,   5.52638055e-01,  -3.80048304e+00,\n",
      "          2.93565935e+00,   1.13586275e+01,  -3.74352450e+00,\n",
      "          3.18516360e+00,   1.26171238e+00,   2.16359443e+00,\n",
      "          3.65446576e+00,  -1.25831337e+00,  -2.96367746e+00,\n",
      "          2.19602361e+00,  -1.34696950e+00,  -3.54344678e+00,\n",
      "          6.04967982e+00,  -3.52152696e+00,   1.26813915e+00,\n",
      "         -2.34174097e+00,   1.43642153e+00,  -3.42475106e-01,\n",
      "         -5.61563110e+00],\n",
      "       [ -2.24476234e+00,  -7.08201337e+00,  -7.87284696e+00,\n",
      "          9.71595621e+00,   3.81871026e+01,   1.06043607e+01,\n",
      "          3.21376789e+00,  -4.24610540e+00,  -2.61233667e+00,\n",
      "          1.03101955e+01,  -2.66911429e-01,   2.34700319e+00,\n",
      "         -4.79499423e+00,   1.06772126e+01,   4.40084624e-01,\n",
      "          2.07780808e+00,  -3.97182158e+00,  -4.32934574e+00,\n",
      "          1.12896396e+00,  -3.10309574e-01,  -2.91924120e-01,\n",
      "         -3.83208179e+00,  -1.77058716e+00,  -2.71456726e+00,\n",
      "         -8.38183392e-01,  -2.06302638e+00,   3.47924973e+00,\n",
      "         -8.72117040e+00],\n",
      "       [ -1.30928770e+01,  -3.92029202e-03,  -4.52935050e+00,\n",
      "          1.21717823e+01,   1.06043607e+01,   4.44930473e+01,\n",
      "         -4.35470017e+00,   6.92893464e-02,  -8.25292873e-01,\n",
      "         -3.89876281e-01,  -1.02314427e+00,  -9.54212905e+00,\n",
      "          7.81083945e+00,   4.79149391e-01,   8.66382825e+00,\n",
      "         -5.27412328e+00,  -3.49966558e+00,  -4.74146006e+00,\n",
      "          3.36431042e+00,   6.05776645e-01,  -1.54393675e+01,\n",
      "         -6.62696896e+00,  -7.97314791e+00,   2.13104189e+00,\n",
      "         -5.02702438e+00,   3.68109544e+00,  -1.00599798e+00,\n",
      "         -1.43876136e+01],\n",
      "       [  7.84297774e-01,   1.69141341e+00,  -7.25919022e-01,\n",
      "          2.15536131e+00,   3.21376789e+00,  -4.35470017e+00,\n",
      "          1.02054953e+01,  -7.35083739e+00,  -8.94383635e+00,\n",
      "          8.22619572e+00,  -5.05227112e-01,  -3.01594462e+00,\n",
      "         -5.95283882e+00,  -1.38030140e+00,  -3.05464824e+00,\n",
      "          6.50559755e+00,  -4.89859416e+00,  -3.49591171e+00,\n",
      "         -1.48994338e+00,  -5.79943941e+00,   3.60921304e+00,\n",
      "         -1.10917360e+00,  -2.52349093e+00,  -2.82199781e+00,\n",
      "         -1.96016152e+00,  -2.70891960e+00,  -2.39762128e+00,\n",
      "         -3.81425115e+00],\n",
      "       [ -1.64458964e+00,   7.17737681e-01,   3.97179185e+00,\n",
      "          5.52638055e-01,  -4.24610540e+00,   6.92893464e-02,\n",
      "         -7.35083739e+00,   9.95193684e+00,   9.83772765e+00,\n",
      "         -8.37272996e+00,   3.83225726e+00,   4.08040414e+00,\n",
      "          6.53037181e+00,   1.55689939e+00,   2.02435680e+00,\n",
      "         -4.58206587e+00,   6.03560450e+00,   4.39133849e+00,\n",
      "          1.71085542e+00,   6.25594117e+00,  -2.59504663e+00,\n",
      "          4.27069760e+00,   3.42834104e+00,   3.32761050e+00,\n",
      "          2.56621551e+00,   2.90470142e+00,   2.77505660e+00,\n",
      "          4.99400261e+00],\n",
      "       [ -2.48377276e-01,   2.99492672e+00,   4.18900391e-01,\n",
      "         -3.80048304e+00,  -2.61233667e+00,  -8.25292873e-01,\n",
      "         -8.94383635e+00,   9.83772765e+00,   1.49798475e+01,\n",
      "         -9.86582465e+00,   2.13178731e+00,   6.89627390e+00,\n",
      "          6.71101058e+00,   3.21307773e+00,   4.29852788e+00,\n",
      "         -6.03280729e+00,   7.31332985e+00,   6.11402058e+00,\n",
      "          1.54421535e+00,   8.63227411e+00,  -3.83725753e-01,\n",
      "          3.81234105e+00,   5.32356319e+00,   3.50438122e+00,\n",
      "          3.92854677e+00,   3.11144491e+00,   4.15216404e+00,\n",
      "          9.63890498e+00],\n",
      "       [ -6.52804934e-01,  -3.00897829e+00,  -2.98088714e+00,\n",
      "          2.93565935e+00,   1.03101955e+01,  -3.89876281e-01,\n",
      "          8.22619572e+00,  -8.37272996e+00,  -9.86582465e+00,\n",
      "          1.28442893e+01,  -1.13892289e+00,  -2.50448796e+00,\n",
      "         -6.91256712e+00,   4.42541396e-01,  -3.73900819e-01,\n",
      "          6.06792581e+00,  -5.69462191e+00,  -4.48476598e+00,\n",
      "         -1.19113922e+00,  -6.06736312e+00,   5.93328701e+00,\n",
      "         -2.16272803e+00,  -2.80579027e+00,  -3.41028812e+00,\n",
      "         -2.14302620e+00,  -2.96159117e+00,  -1.94643596e+00,\n",
      "         -2.68741457e+00],\n",
      "       [ -4.71782992e+00,  -3.78374906e+00,  -1.86202923e+00,\n",
      "          1.13586275e+01,  -2.66911429e-01,  -1.02314427e+00,\n",
      "         -5.05227112e-01,   3.83225726e+00,   2.13178731e+00,\n",
      "         -1.13892289e+00,   1.11731644e+01,   1.30321563e+00,\n",
      "          3.50449234e+00,   4.97837614e-01,   2.86544325e+00,\n",
      "          2.12508039e+00,   2.61901381e+00,   1.35103603e+00,\n",
      "          1.31590048e+00,   1.62678089e+00,   2.45151848e+00,\n",
      "          8.38158015e+00,   1.10050948e+00,   1.99295022e+00,\n",
      "          7.16348958e-01,   1.66511271e+00,   7.74887372e-01,\n",
      "          5.28089235e+00],\n",
      "       [  2.58090129e+00,  -2.07471726e-01,  -6.55618462e-01,\n",
      "         -3.74352450e+00,   2.34700319e+00,  -9.54212905e+00,\n",
      "         -3.01594462e+00,   4.08040414e+00,   6.89627390e+00,\n",
      "         -2.50448796e+00,   1.30321563e+00,   7.56502669e+00,\n",
      "          4.74303910e-01,   3.32035723e+00,   1.08711561e+00,\n",
      "         -1.32429985e+00,   3.94019903e+00,   3.65107825e+00,\n",
      "          8.43584865e-02,   4.16609208e+00,   4.99372388e+00,\n",
      "          3.13606936e+00,   4.60427137e+00,   7.27058928e-01,\n",
      "          3.22290865e+00,   2.99331499e-01,   2.93329807e+00,\n",
      "          8.58685749e+00],\n",
      "       [ -4.03086221e+00,   9.68383482e-01,   1.58077028e+00,\n",
      "          3.18516360e+00,  -4.79499423e+00,   7.81083945e+00,\n",
      "         -5.95283882e+00,   6.53037181e+00,   6.71101058e+00,\n",
      "         -6.91256712e+00,   3.50449234e+00,   4.74303910e-01,\n",
      "          7.74484531e+00,  -8.00042091e-02,   3.44050246e+00,\n",
      "         -3.96254539e+00,   3.83385385e+00,   2.47783262e+00,\n",
      "          1.78114429e+00,   4.36996273e+00,  -4.57767551e+00,\n",
      "          2.80128693e+00,   8.40645007e-01,   3.10873865e+00,\n",
      "          7.58432136e-01,   3.04980232e+00,   1.24808467e+00,\n",
      "          1.87460209e+00],\n",
      "       [  1.03695104e-01,  -1.53929603e+00,  -1.74101660e+00,\n",
      "          1.26171238e+00,   1.06772126e+01,   4.79149391e-01,\n",
      "         -1.38030140e+00,   1.55689939e+00,   3.21307773e+00,\n",
      "          4.42541396e-01,   4.97837614e-01,   3.32035723e+00,\n",
      "         -8.00042091e-02,   5.38122326e+00,   6.09198765e-01,\n",
      "         -8.49533161e-01,   1.06435096e+00,   6.30377576e-01,\n",
      "          6.25971863e-01,   2.35449414e+00,   4.76291339e-01,\n",
      "          1.58897356e-01,   1.43537184e+00,   3.85307744e-03,\n",
      "          1.16548096e+00,  -3.13466140e-03,   2.40598871e+00,\n",
      "          4.96693826e-01],\n",
      "       [ -5.05427604e+00,  -7.57663155e-01,  -6.56885414e+00,\n",
      "          2.16359443e+00,   4.40084624e-01,   8.66382825e+00,\n",
      "         -3.05464824e+00,   2.02435680e+00,   4.29852788e+00,\n",
      "         -3.73900819e-01,   2.86544325e+00,   1.08711561e+00,\n",
      "          3.44050246e+00,   6.09198765e-01,   9.70508238e+00,\n",
      "         -1.38297072e+00,   1.64583175e+00,   1.46305016e+00,\n",
      "          9.80495643e-01,   2.66991287e+00,   3.82600507e+00,\n",
      "          2.63561521e+00,   8.16765989e-01,   1.56183224e+00,\n",
      "          5.63846102e-01,   1.95094845e+00,   7.52003366e-01,\n",
      "          8.68146086e+00],\n",
      "       [ -6.82360126e-02,  -5.27877013e-01,  -1.49400632e+00,\n",
      "          3.65446576e+00,   2.07780808e+00,  -5.27412328e+00,\n",
      "          6.50559755e+00,  -4.58206587e+00,  -6.03280729e+00,\n",
      "          6.06792581e+00,   2.12508039e+00,  -1.32429985e+00,\n",
      "         -3.96254539e+00,  -8.49533161e-01,  -1.38297072e+00,\n",
      "          6.40535936e+00,  -2.80423376e+00,  -2.02856682e+00,\n",
      "         -9.37456669e-01,  -3.88726765e+00,   4.58565790e+00,\n",
      "          1.55582709e+00,  -1.14243201e+00,  -1.72352277e+00,\n",
      "         -9.94035673e-01,  -1.75473636e+00,  -1.51208637e+00,\n",
      "         -1.06726423e-01],\n",
      "       [ -2.45505447e-02,   5.65484974e-01,   1.74794214e+00,\n",
      "         -1.25831337e+00,  -3.97182158e+00,  -3.49966558e+00,\n",
      "         -4.89859416e+00,   6.03560450e+00,   7.31332985e+00,\n",
      "         -5.69462191e+00,   2.61901381e+00,   3.94019903e+00,\n",
      "          3.83385385e+00,   1.06435096e+00,   1.64583175e+00,\n",
      "         -2.80423376e+00,   5.55036476e+00,   3.66253084e+00,\n",
      "          8.21967977e-01,   4.49220530e+00,   5.10740304e-01,\n",
      "          3.61232832e+00,   3.28870391e+00,   2.12614550e+00,\n",
      "          2.35190188e+00,   1.74468033e+00,   2.06003172e+00,\n",
      "          6.17783267e+00],\n",
      "       [  8.83292432e-01,   1.54975987e+00,   8.03370799e-01,\n",
      "         -2.96367746e+00,  -4.32934574e+00,  -4.74146006e+00,\n",
      "         -3.49591171e+00,   4.39133849e+00,   6.11402058e+00,\n",
      "         -4.48476598e+00,   1.35103603e+00,   3.65107825e+00,\n",
      "          2.47783262e+00,   6.30377576e-01,   1.46305016e+00,\n",
      "         -2.02856682e+00,   3.66253084e+00,   4.28947631e+00,\n",
      "          3.08376858e-01,   3.58948584e+00,   1.74097999e+00,\n",
      "          2.74840221e+00,   3.09660427e+00,   1.48799402e+00,\n",
      "          2.16621448e+00,   1.15822486e+00,   1.60224878e+00,\n",
      "          6.48312025e+00],\n",
      "       [ -1.68341536e+00,  -4.69577010e-01,   3.72736906e-01,\n",
      "          2.19602361e+00,   1.12896396e+00,   3.36431042e+00,\n",
      "         -1.48994338e+00,   1.71085542e+00,   1.54421535e+00,\n",
      "         -1.19113922e+00,   1.31590048e+00,   8.43584865e-02,\n",
      "          1.78114429e+00,   6.25971863e-01,   9.80495643e-01,\n",
      "         -9.37456669e-01,   8.21967977e-01,   3.08376858e-01,\n",
      "          1.68186006e+00,   1.14058426e+00,  -1.58074852e+00,\n",
      "          7.06280634e-01,  -2.80695070e-02,   7.76862590e-01,\n",
      "          5.89411598e-02,   8.05655225e-01,   5.30946763e-01,\n",
      "         -3.94946272e-01],\n",
      "       [ -5.50856476e-01,   1.16892770e+00,   1.54047791e-01,\n",
      "         -1.34696950e+00,  -3.10309574e-01,   6.05776645e-01,\n",
      "         -5.79943941e+00,   6.25594117e+00,   8.63227411e+00,\n",
      "         -6.06736312e+00,   1.62678089e+00,   4.16609208e+00,\n",
      "          4.36996273e+00,   2.35449414e+00,   2.66991287e+00,\n",
      "         -3.88726765e+00,   4.49220530e+00,   3.58948584e+00,\n",
      "          1.14058426e+00,   6.43480305e+00,  -8.53811697e-01,\n",
      "          2.34350926e+00,   3.10093747e+00,   2.23410407e+00,\n",
      "          2.32518462e+00,   2.01503533e+00,   2.70944376e+00,\n",
      "          5.20545632e+00],\n",
      "       [  2.14265744e+00,  -2.13286531e+00,  -6.07269326e+00,\n",
      "         -3.54344678e+00,  -2.91924120e-01,  -1.54393675e+01,\n",
      "          3.60921304e+00,  -2.59504663e+00,  -3.83725753e-01,\n",
      "          5.93328701e+00,   2.45151848e+00,   4.99372388e+00,\n",
      "         -4.57767551e+00,   4.76291339e-01,   3.82600507e+00,\n",
      "          4.58565790e+00,   5.10740304e-01,   1.74097999e+00,\n",
      "         -1.58074852e+00,  -8.53811697e-01,   1.64818538e+01,\n",
      "          4.88629830e+00,   3.73473387e+00,  -1.45154722e+00,\n",
      "          2.20413757e+00,  -1.66474717e+00,   2.35802657e-01,\n",
      "          1.53314133e+01],\n",
      "       [ -2.31021183e+00,  -2.19538460e+00,  -1.20593395e+00,\n",
      "          6.04967982e+00,  -3.83208179e+00,  -6.62696896e+00,\n",
      "         -1.10917360e+00,   4.27069760e+00,   3.81234105e+00,\n",
      "         -2.16272803e+00,   8.38158015e+00,   3.13606936e+00,\n",
      "          2.80128693e+00,   1.58897356e-01,   2.63561521e+00,\n",
      "          1.55582709e+00,   3.61232832e+00,   2.74840221e+00,\n",
      "          7.06280634e-01,   2.34350926e+00,   4.88629830e+00,\n",
      "          9.21873613e+00,   2.75731456e+00,   1.85645113e+00,\n",
      "          1.80049784e+00,   1.37321555e+00,   1.05519510e+00,\n",
      "          8.92912178e+00],\n",
      "       [  2.03047279e+00,   4.55052572e-01,   2.09337880e-01,\n",
      "         -3.52152696e+00,  -1.77058716e+00,  -7.97314791e+00,\n",
      "         -2.52349093e+00,   3.42834104e+00,   5.32356319e+00,\n",
      "         -2.80579027e+00,   1.10050948e+00,   4.60427137e+00,\n",
      "          8.40645007e-01,   1.43537184e+00,   8.16765989e-01,\n",
      "         -1.14243201e+00,   3.28870391e+00,   3.09660427e+00,\n",
      "         -2.80695070e-02,   3.10093747e+00,   3.73473387e+00,\n",
      "          2.75731456e+00,   4.55181236e+00,   8.11331938e-01,\n",
      "          2.44751000e+00,   4.34941616e-01,   1.83019017e+00,\n",
      "          7.19901669e+00],\n",
      "       [ -1.59242276e+00,   4.07717341e-01,   7.73311459e-01,\n",
      "          1.26813915e+00,  -2.71456726e+00,   2.13104189e+00,\n",
      "         -2.82199781e+00,   3.32761050e+00,   3.50438122e+00,\n",
      "         -3.41028812e+00,   1.99295022e+00,   7.27058928e-01,\n",
      "          3.10873865e+00,   3.85307744e-03,   1.56183224e+00,\n",
      "         -1.72352277e+00,   2.12614550e+00,   1.48799402e+00,\n",
      "          7.76862590e-01,   2.23410407e+00,  -1.45154722e+00,\n",
      "          1.85645113e+00,   8.11331938e-01,   2.50260609e+00,\n",
      "          6.28070704e-01,   1.40957041e+00,   7.10770059e-01,\n",
      "          1.83310028e+00],\n",
      "       [  1.32651853e+00,   3.65861707e-01,   2.22626841e-01,\n",
      "         -2.34174097e+00,  -8.38183392e-01,  -5.02702438e+00,\n",
      "         -1.96016152e+00,   2.56621551e+00,   3.92854677e+00,\n",
      "         -2.14302620e+00,   7.16348958e-01,   3.22290865e+00,\n",
      "          7.58432136e-01,   1.16548096e+00,   5.63846102e-01,\n",
      "         -9.94035673e-01,   2.35190188e+00,   2.16621448e+00,\n",
      "          5.89411598e-02,   2.32518462e+00,   2.20413757e+00,\n",
      "          1.80049784e+00,   2.44751000e+00,   6.28070704e-01,\n",
      "          2.70485334e+00,   3.74130443e-01,   1.37860652e+00,\n",
      "          4.69395424e+00],\n",
      "       [ -1.98877507e+00,   3.50581307e-01,   3.14449900e-01,\n",
      "          1.43642153e+00,  -2.06302638e+00,   3.68109544e+00,\n",
      "         -2.70891960e+00,   2.90470142e+00,   3.11144491e+00,\n",
      "         -2.96159117e+00,   1.66511271e+00,   2.99331499e-01,\n",
      "          3.04980232e+00,  -3.13466140e-03,   1.95094845e+00,\n",
      "         -1.75473636e+00,   1.74468033e+00,   1.15822486e+00,\n",
      "          8.05655225e-01,   2.01503533e+00,  -1.66474717e+00,\n",
      "          1.37321555e+00,   4.34941616e-01,   1.40957041e+00,\n",
      "          3.74130443e-01,   2.40214530e+00,   5.78048510e-01,\n",
      "          1.36715490e+00],\n",
      "       [  2.80730511e-01,  -2.11935360e-01,  -2.35552776e-01,\n",
      "         -3.42475106e-01,   3.47924973e+00,  -1.00599798e+00,\n",
      "         -2.39762128e+00,   2.77505660e+00,   4.15216404e+00,\n",
      "         -1.94643596e+00,   7.74887372e-01,   2.93329807e+00,\n",
      "          1.24808467e+00,   2.40598871e+00,   7.52003366e-01,\n",
      "         -1.51208637e+00,   2.06003172e+00,   1.60224878e+00,\n",
      "          5.30946763e-01,   2.70944376e+00,   2.35802657e-01,\n",
      "          1.05519510e+00,   1.83019017e+00,   7.10770059e-01,\n",
      "          1.37860652e+00,   5.78048510e-01,   2.85075573e+00,\n",
      "          2.25654816e+00],\n",
      "       [  5.99591174e-01,  -3.00465771e-01,  -6.68691610e+00,\n",
      "         -5.61563110e+00,  -8.72117040e+00,  -1.43876136e+01,\n",
      "         -3.81425115e+00,   4.99400261e+00,   9.63890498e+00,\n",
      "         -2.68741457e+00,   5.28089235e+00,   8.58685749e+00,\n",
      "          1.87460209e+00,   4.96693826e-01,   8.68146086e+00,\n",
      "         -1.06726423e-01,   6.17783267e+00,   6.48312025e+00,\n",
      "         -3.94946272e-01,   5.20545632e+00,   1.53314133e+01,\n",
      "          8.92912178e+00,   7.19901669e+00,   1.83310028e+00,\n",
      "          4.69395424e+00,   1.36715490e+00,   2.25654816e+00,\n",
      "          2.53697451e+01]])\n",
      "      jac: array([ -7.38704490e-07,   3.53597012e-06,  -3.77862464e-07,\n",
      "         8.23497165e-06,  -2.33984225e-06,  -3.43045984e-06,\n",
      "        -3.37083563e-06,   3.98439385e-06,   2.10857330e-06,\n",
      "         2.60564538e-06,  -2.07924081e-06,  -3.10659099e-06,\n",
      "        -3.78641922e-06,   6.37189493e-07,  -4.74057013e-07,\n",
      "        -5.79040623e-06,   2.86496574e-06,  -2.38506349e-06,\n",
      "        -1.59757750e-07,   1.20879797e-06,   2.21348393e-06,\n",
      "        -5.23853431e-06,  -1.51686959e-06,  -1.78843960e-06,\n",
      "        -1.19355742e-06,  -1.69618801e-06,   1.00676061e-07,\n",
      "         4.15879424e-07])\n",
      "  message: 'Optimization terminated successfully.'\n",
      "     nfev: 48\n",
      "      nit: 47\n",
      "     njev: 48\n",
      "   status: 0\n",
      "  success: True\n",
      "        x: array([ 1.27268739,  0.62557016,  1.1809665 , -2.01919822, -0.91761468,\n",
      "       -1.43194199,  0.12375921, -0.36513086, -0.35703388, -0.17485805,\n",
      "       -1.45843772, -0.05129676, -0.61603963, -0.2746414 , -1.19282569,\n",
      "       -0.24270336, -0.20570022, -0.04499768, -0.27782709, -0.29525851,\n",
      "       -0.45613294, -1.04377851,  0.02762813, -0.29265642,  0.01543393,\n",
      "       -0.32759318, -0.14389199, -0.92460119])\n"
     ]
    }
   ],
   "source": [
    "reg_logistic_regression = minimize(fun=reg_cost_function, x0=np.zeros([n, 1]),\n",
    "                               args=(features, y,1), jac=reg_gradient_function, options={'maxiter': 400})\n",
    "print(reg_logistic_regression)\n"
   ]
  },
  {
   "cell_type": "code",
   "execution_count": 57,
   "metadata": {},
   "outputs": [
    {
     "data": {
      "text/plain": [
       "<matplotlib.contour.QuadContourSet at 0x113b0beb8>"
      ]
     },
     "execution_count": 57,
     "metadata": {},
     "output_type": "execute_result"
    },
    {
     "data": {
      "image/png": "[encoded data removed]",
      "text/plain": [
       "<matplotlib.figure.Figure at 0x113c3f390>"
      ]
     },
     "metadata": {},
     "output_type": "display_data"
    }
   ],
   "source": [
    "plot_function(data[data.y == 0]['chip1'], data[data.y == 0]['chip2'], data[data.y == 1]['chip1'],\n",
    "              data[data.y == 1]['chip2'], \"y=0\", \"y=1\", data['chip1'].min() - 0.5, data['chip1'].max() + 0.5,\n",
    "              data['chip2'].min() - 0.5, data['chip2'].max() + 0.5, \"Microchip Test1\", \"Microchip Test2\")\n",
    "xx1, xx2 = np.meshgrid(np.linspace(data['chip1'].min(), data['chip1'].max()), np.linspace(data['chip2'].min(), data['chip2'].max()))\n",
    "\n",
    "# Grid of all points (2500 by default) in the mesh, with entry of 1 in front ( for theta0 )\n",
    "X_grid = np.c_[np.ravel(xx1), np.ravel(xx2) ]\n",
    "X_grid = poly_features(X_grid,6)\n",
    "h = sigmoid( X_grid.dot(reg_logistic_regression.x) )\n",
    "h = h.reshape(xx1.shape)\n",
    "\n",
    "plt.contour(xx1, xx2, h, [0.5], linewidths=1, colors='chartreuse')"
   ]
  },
  {
   "cell_type": "code",
   "execution_count": null,
   "metadata": {},
   "outputs": [],
   "source": []
  }
 ],
 "metadata": {
  "kernelspec": {
   "display_name": "Python 3",
   "language": "python",
   "name": "python3"
  },
  "language_info": {
   "codemirror_mode": {
    "name": "ipython",
    "version": 3
   },
   "file_extension": ".py",
   "mimetype": "text/x-python",
   "name": "python",
   "nbconvert_exporter": "python",
   "pygments_lexer": "ipython3",
   "version": "3.6.3"
  }
 },
 "nbformat": 4,
 "nbformat_minor": 1
}
