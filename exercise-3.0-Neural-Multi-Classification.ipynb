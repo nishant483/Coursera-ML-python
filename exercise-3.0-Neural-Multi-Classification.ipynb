{
 "cells": [
  {
   "cell_type": "code",
   "execution_count": 124,
   "metadata": {},
   "outputs": [],
   "source": [
    "import pandas as pd\n",
    "import numpy as np\n",
    "import matplotlib.pyplot as plt\n",
    "from scipy.io import loadmat\n",
    "from scipy.optimize import minimize"
   ]
  },
  {
   "cell_type": "code",
   "execution_count": 125,
   "metadata": {},
   "outputs": [],
   "source": [
    "def sigmoid(x):\n",
    "    return 1/(1+np.exp(-x))"
   ]
  },
  {
   "cell_type": "code",
   "execution_count": 126,
   "metadata": {},
   "outputs": [],
   "source": [
    "def costFunction(theta, x, y):\n",
    "    m = x.shape[0]\n",
    "    predicted_value = sigmoid(np.dot(x, theta))\n",
    "    cost = (-1 / m) * (np.dot(y.T, np.log(predicted_value)) + np.dot((1 - y).T, np.log(1 - predicted_value)))\n",
    "\n",
    "    if np.isnan(cost[0]):\n",
    "        return (np.inf)\n",
    "\n",
    "    return cost[0]"
   ]
  },
  {
   "cell_type": "code",
   "execution_count": 127,
   "metadata": {},
   "outputs": [],
   "source": [
    "def gradientDescent(theta, x, y):\n",
    "    m = x.shape[0]\n",
    "    n = x.shape[1]\n",
    "    theta = np.array(theta).reshape(n, 1)\n",
    "    predicted_value = sigmoid(np.dot(x, theta))\n",
    "    diffrence = (predicted_value - y)\n",
    "    theta = ((1 / m) * np.dot(diffrence.T, x)).T.flatten()\n",
    "    return theta"
   ]
  },
  {
   "cell_type": "code",
   "execution_count": 128,
   "metadata": {},
   "outputs": [],
   "source": [
    "def reg_cost_function ( theta, x, y, lmda ):\n",
    "    theta = theta.reshape(theta.shape[0],1)\n",
    "    m = x.shape[0]\n",
    "    predicted_value = sigmoid(np.dot(x, theta))\n",
    "    reg_theta = np.delete(theta,0,axis=0)\n",
    "    cost = (-1 / m) * (np.dot(y.T, np.log(predicted_value)) + np.dot((1 - y).T, np.log(1 - predicted_value))) +(lmda / (2 * m)) * np.sum(np.square(reg_theta))\n",
    "    if np.isnan(cost[0]):\n",
    "        return (np.inf)\n",
    "\n",
    "    return cost[0]"
   ]
  },
  {
   "cell_type": "code",
   "execution_count": 133,
   "metadata": {},
   "outputs": [],
   "source": [
    "def reg_gradient_function ( theta, x, y, lmda ):\n",
    "    m = x.shape[0]\n",
    "    n = x.shape[1]\n",
    "    theta = np.array(theta).reshape(n, 1)\n",
    "    predicted_value = sigmoid(np.dot(x, theta))\n",
    "    diffrence = (predicted_value - y)\n",
    "    reg_theta = np.insert(np.delete((lmda / m) * theta, 0, axis=0),0,0,axis=0)\n",
    "    optimized_theta = ((1 / m) * np.dot(diffrence.T, x).T + reg_theta).flatten()\n",
    "    return optimized_theta"
   ]
  },
  {
   "cell_type": "code",
   "execution_count": 134,
   "metadata": {},
   "outputs": [],
   "source": [
    "def oneVsAll(X,num_of_outcomes,lmbda):\n",
    "    all_theta = np.zeros((num_of_outcomes,X.shape[1]))\n",
    "    initial_theta = np.zeros((X.shape[1],1))\n",
    "    for i in range(1,num_of_outcomes+1):\n",
    "        print(\"Looping theta : \"+str(i))\n",
    "        reg_logistic_regression = minimize(fun = reg_cost_function,x0=initial_theta,\n",
    "                                                   args=(X,(y == i)*1,lmbda),jac=reg_gradient_function,\n",
    "                                                   options = {'maxiter' : 100})\n",
    "        all_theta[i-1] = reg_logistic_regression.x.reshape(initial_theta.shape[0],)\n",
    "    return all_theta"
   ]
  },
  {
   "cell_type": "code",
   "execution_count": 135,
   "metadata": {},
   "outputs": [],
   "source": [
    "def predictOneVsAll(X,theta):\n",
    "    prediction = sigmoid(np.dot(X,theta.T))\n",
    "    classes = np.argmax(prediction, axis=1)+1\n",
    "    return classes"
   ]
  },
  {
   "cell_type": "code",
   "execution_count": 137,
   "metadata": {},
   "outputs": [
    {
     "name": "stdout",
     "output_type": "stream",
     "text": [
      "Looping theta : 1\n",
      "Looping theta : 2\n",
      "Looping theta : 3\n",
      "Looping theta : 4\n",
      "Looping theta : 5\n",
      "Looping theta : 6\n",
      "Looping theta : 7\n",
      "Looping theta : 8\n",
      "Looping theta : 9\n",
      "Looping theta : 10\n"
     ]
    }
   ],
   "source": [
    "data = loadmat('data/ex3data1.mat')\n",
    "X = data['X']\n",
    "lmbda = 0.1\n",
    "y = data['y']\n",
    "n = X.shape[1]\n",
    "m = X.shape[0]\n",
    "X = np.c_[np.ones((m,1)),X]\n",
    "num_of_outcomes = 10\n",
    "theta = oneVsAll(X,num_of_outcomes,lmbda)\n",
    "prediction = predictOneVsAll(X,theta)"
   ]
  },
  {
   "cell_type": "code",
   "execution_count": 138,
   "metadata": {},
   "outputs": [
    {
     "name": "stdout",
     "output_type": "stream",
     "text": [
      "Accuracy: 94.94 %\n"
     ]
    }
   ],
   "source": [
    "prediction = prediction.reshape(-1,1)\n",
    "accuracy = (y[y==prediction].shape[0]*100/y.shape[0])\n",
    "print(\"Accuracy: \"+str(accuracy)+\" %\")"
   ]
  },
  {
   "cell_type": "code",
   "execution_count": 139,
   "metadata": {},
   "outputs": [],
   "source": [
    "# Neural Network"
   ]
  },
  {
   "cell_type": "code",
   "execution_count": 140,
   "metadata": {},
   "outputs": [],
   "source": [
    "def predict_nn(X,theta1,theta2):  \n",
    "    z2 = np.dot(X,theta1.T)\n",
    "    a2 = sigmoid(z2)\n",
    "    a2 = np.c_[np.ones((a2.shape[0],1)),a2]\n",
    "    z3 = np.dot(a2,theta2.T)\n",
    "    a3 = sigmoid(z3)\n",
    "    prediction = np.argmax(a3,axis=1)+1\n",
    "    return prediction"
   ]
  },
  {
   "cell_type": "code",
   "execution_count": 141,
   "metadata": {},
   "outputs": [],
   "source": [
    "weights = loadmat('data/ex3weights.mat')\n",
    "theta1 = weights['Theta1']\n",
    "theta2 = weights['Theta2']"
   ]
  },
  {
   "cell_type": "code",
   "execution_count": 142,
   "metadata": {},
   "outputs": [],
   "source": [
    "prediction = predict_nn(X,theta1,theta2)"
   ]
  },
  {
   "cell_type": "code",
   "execution_count": 143,
   "metadata": {},
   "outputs": [
    {
     "name": "stdout",
     "output_type": "stream",
     "text": [
      "Accuracy: 97.52 %\n"
     ]
    }
   ],
   "source": [
    "prediction = prediction.reshape(-1,1)\n",
    "accuracy = (y[y==prediction].shape[0]*100/y.shape[0])\n",
    "print(\"Accuracy: \"+str(accuracy)+\" %\")"
   ]
  },
  {
   "cell_type": "code",
   "execution_count": null,
   "metadata": {},
   "outputs": [],
   "source": []
  }
 ],
 "metadata": {
  "kernelspec": {
   "display_name": "Python 3",
   "language": "python",
   "name": "python3"
  },
  "language_info": {
   "codemirror_mode": {
    "name": "ipython",
    "version": 3
   },
   "file_extension": ".py",
   "mimetype": "text/x-python",
   "name": "python",
   "nbconvert_exporter": "python",
   "pygments_lexer": "ipython3",
   "version": "3.6.3"
  }
 },
 "nbformat": 4,
 "nbformat_minor": 1
}
