{
 "cells": [
  {
   "cell_type": "code",
   "execution_count": 22,
   "metadata": {},
   "outputs": [],
   "source": [
    "import numpy as np\n",
    "import matplotlib.pyplot as plt\n",
    "import pandas as pd\n",
    "from numpy.linalg import inv"
   ]
  },
  {
   "cell_type": "code",
   "execution_count": 23,
   "metadata": {},
   "outputs": [],
   "source": [
    "data = pd.read_csv('data/ex1data2.txt', sep=',',header=None)\n",
    "data.columns = [\"x1\",\"x2\",\"y\"]"
   ]
  },
  {
   "cell_type": "code",
   "execution_count": 24,
   "metadata": {},
   "outputs": [],
   "source": [
    "def compute_cost(x,theta,y):\n",
    "    predicted_cost = np.dot(x,theta)\n",
    "    diffrence = (predicted_cost - y)\n",
    "    cost = np.sum(np.power(diffrence,2))\n",
    "    return cost"
   ]
  },
  {
   "cell_type": "code",
   "execution_count": 25,
   "metadata": {},
   "outputs": [],
   "source": [
    "def gradientDescent(x,y,theta,alpha,num_iterations):\n",
    "    xx = []\n",
    "    yy = []\n",
    "    i = 0\n",
    "    while i < num_iterations:\n",
    "        predicted_cost = np.dot(x,theta)\n",
    "        diffrence = (predicted_cost - y)\n",
    "        denominator = x.shape[0]\n",
    "        theta = theta - (alpha/denominator) * np.dot(x.T,diffrence)\n",
    "        i = i+1\n",
    "        if i%100 == 0:\n",
    "            print(\"Cost for\"+str(i)+\"=\"+str(compute_cost(x,theta,y)))\n",
    "        xx.append(i)\n",
    "        yy.append(compute_cost(x,theta,y))\n",
    "    plt.plot(xx,yy)\n",
    "    plt.show()\n",
    "    return theta"
   ]
  },
  {
   "cell_type": "code",
   "execution_count": 26,
   "metadata": {},
   "outputs": [],
   "source": [
    "x = data[['x1','x2']].values\n",
    "y = data[['y']].values"
   ]
  },
  {
   "cell_type": "code",
   "execution_count": 27,
   "metadata": {},
   "outputs": [],
   "source": [
    "x = np.insert(x,0,1,axis=1)\n",
    "mean_x = x.mean(axis=0)\n",
    "std_x = x.std(axis=0)"
   ]
  },
  {
   "cell_type": "code",
   "execution_count": 28,
   "metadata": {},
   "outputs": [
    {
     "name": "stderr",
     "output_type": "stream",
     "text": [
      "/Users/nishant/venv/lib/python3.6/site-packages/ipykernel_launcher.py:1: RuntimeWarning: invalid value encountered in true_divide\n",
      "  \"\"\"Entry point for launching an IPython kernel.\n"
     ]
    }
   ],
   "source": [
    "x = (x-mean_x)/(std_x) #normalization\n",
    "x[np.isnan(x)] = 1 #converting nan to 1's"
   ]
  },
  {
   "cell_type": "code",
   "execution_count": 29,
   "metadata": {},
   "outputs": [
    {
     "name": "stdout",
     "output_type": "stream",
     "text": [
      "Cost for100=996115118352.0\n",
      "Cost for200=314408439736.0\n",
      "Cost for300=215072411189.0\n",
      "Cost for400=197912139131.0\n",
      "Cost for500=193995545945.0\n"
     ]
    },
    {
     "data": {
      "image/png": "[encoded data removed]",
      "text/plain": [
       "<matplotlib.figure.Figure at 0x111712128>"
      ]
     },
     "metadata": {},
     "output_type": "display_data"
    },
    {
     "name": "stdout",
     "output_type": "stream",
     "text": [
      "[[  3.38175984e+05]\n",
      " [  1.03032124e+05]\n",
      " [ -2.02325233e+02]]\n"
     ]
    }
   ],
   "source": [
    "theta = gradientDescent(x,y,np.zeros([3,1]),0.01,500)\n",
    "print(theta)"
   ]
  },
  {
   "cell_type": "code",
   "execution_count": 30,
   "metadata": {},
   "outputs": [
    {
     "name": "stdout",
     "output_type": "stream",
     "text": [
      "[ 292264.88188682]\n"
     ]
    },
    {
     "name": "stderr",
     "output_type": "stream",
     "text": [
      "/Users/nishant/venv/lib/python3.6/site-packages/ipykernel_launcher.py:1: RuntimeWarning: invalid value encountered in true_divide\n",
      "  \"\"\"Entry point for launching an IPython kernel.\n"
     ]
    }
   ],
   "source": [
    "scaled_x = (np.array([1,1650,3]) - mean_x)/(std_x)\n",
    "scaled_x[np.isnan(scaled_x)] = 1\n",
    "predict_y = np.dot(scaled_x,theta)\n",
    "print(predict_y)"
   ]
  },
  {
   "cell_type": "code",
   "execution_count": 31,
   "metadata": {},
   "outputs": [
    {
     "name": "stdout",
     "output_type": "stream",
     "text": [
      "[ 293081.4643349]\n"
     ]
    }
   ],
   "source": [
    "theta = np.dot(np.dot(inv(np.dot(x.T,x)),x.T),y)\n",
    "predict_y = np.dot(scaled_x,theta)\n",
    "print(predict_y)"
   ]
  },
  {
   "cell_type": "code",
   "execution_count": null,
   "metadata": {},
   "outputs": [],
   "source": []
  }
 ],
 "metadata": {
  "kernelspec": {
   "display_name": "Python 3",
   "language": "python",
   "name": "python3"
  },
  "language_info": {
   "codemirror_mode": {
    "name": "ipython",
    "version": 3
   },
   "file_extension": ".py",
   "mimetype": "text/x-python",
   "name": "python",
   "nbconvert_exporter": "python",
   "pygments_lexer": "ipython3",
   "version": "3.6.3"
  }
 },
 "nbformat": 4,
 "nbformat_minor": 1
}
